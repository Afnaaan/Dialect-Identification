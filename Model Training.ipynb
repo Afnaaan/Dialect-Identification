{
 "cells": [
  {
   "cell_type": "markdown",
   "id": "0ecd4e3e",
   "metadata": {
    "id": "3030a384"
   },
   "source": [
    "## 1. Install and import liberaries"
   ]
  },
  {
   "cell_type": "code",
   "execution_count": 1,
   "id": "2a81e1b1",
   "metadata": {},
   "outputs": [],
   "source": [
    "# !pip install tensorflow"
   ]
  },
  {
   "cell_type": "code",
   "execution_count": 2,
   "id": "cdef84a3",
   "metadata": {},
   "outputs": [],
   "source": [
    "# !pip install gensim"
   ]
  },
  {
   "cell_type": "code",
   "execution_count": 3,
   "id": "5095fe5c",
   "metadata": {},
   "outputs": [],
   "source": [
    "# !pip install nltk"
   ]
  },
  {
   "cell_type": "code",
   "execution_count": 4,
   "id": "62d6691b",
   "metadata": {},
   "outputs": [],
   "source": [
    "# !pip install pandas matplotlib seaborn sklearn"
   ]
  },
  {
   "cell_type": "code",
   "execution_count": 27,
   "id": "24b62804",
   "metadata": {
    "id": "1498b713"
   },
   "outputs": [],
   "source": [
    "import numpy as np\n",
    "import pandas as pd\n",
    "import matplotlib.pyplot as plt\n",
    "import seaborn as sns\n",
    "from sklearn.model_selection import train_test_split\n",
    "\n",
    "import requests\n",
    "import re"
   ]
  },
  {
   "cell_type": "markdown",
   "id": "577afd96",
   "metadata": {
    "id": "8ce8213e"
   },
   "source": [
    "## 2. Load data from csv and API"
   ]
  },
  {
   "cell_type": "code",
   "execution_count": 4,
   "id": "a031b258",
   "metadata": {},
   "outputs": [],
   "source": [
    "df = pd.read_csv('dialect_dataset_pre-processed.csv')\n",
    "df"
   ]
  },
  {
   "cell_type": "markdown",
   "id": "f0176692",
   "metadata": {
    "id": "fHWlZxDJFHGA"
   },
   "source": [
    "## ML text classification"
   ]
  },
  {
   "cell_type": "markdown",
   "id": "98f3f721",
   "metadata": {
    "id": "qcJEPBp7Bpjl"
   },
   "source": [
    "### Split into train and test"
   ]
  },
  {
   "cell_type": "code",
   "execution_count": 18,
   "id": "f52d45a0",
   "metadata": {
    "id": "67_sFdae-9TG"
   },
   "outputs": [],
   "source": [
    "#SPLITTING THE TRAINING DATASET INTO TRAIN AND TEST\n",
    "x_train, x_test, y_train, y_test = train_test_split(df[\"clean_text\"], df[\"dialect\"], test_size=0.2, shuffle=True, random_state=42, stratify=df[\"dialect\"])"
   ]
  },
  {
   "cell_type": "code",
   "execution_count": 16,
   "id": "f76c8a5a",
   "metadata": {},
   "outputs": [],
   "source": [
    "import nltk\n",
    "from nltk.tokenize import word_tokenize\n",
    "from nltk.corpus import stopwords\n",
    "from nltk.tokenize import word_tokenize\n",
    "from nltk.stem import SnowballStemmer\n",
    "from nltk.corpus import wordnet\n",
    "from nltk.stem import WordNetLemmatizer"
   ]
  },
  {
   "cell_type": "code",
   "execution_count": 138,
   "id": "488e9e54",
   "metadata": {},
   "outputs": [
    {
     "name": "stderr",
     "output_type": "stream",
     "text": [
      "[nltk_data] Downloading package punkt to\n",
      "[nltk_data]     /home/datascience/nltk_data...\n",
      "[nltk_data]   Unzipping tokenizers/punkt.zip.\n",
      "[nltk_data] Downloading package averaged_perceptron_tagger to\n",
      "[nltk_data]     /home/datascience/nltk_data...\n",
      "[nltk_data]   Unzipping taggers/averaged_perceptron_tagger.zip.\n",
      "[nltk_data] Downloading package wordnet to\n",
      "[nltk_data]     /home/datascience/nltk_data...\n",
      "[nltk_data]   Unzipping corpora/wordnet.zip.\n"
     ]
    },
    {
     "data": {
      "text/plain": [
       "True"
      ]
     },
     "execution_count": 138,
     "metadata": {},
     "output_type": "execute_result"
    }
   ],
   "source": [
    "nltk.download('punkt')\n",
    "nltk.download('averaged_perceptron_tagger')\n",
    "nltk.download('wordnet')"
   ]
  },
  {
   "cell_type": "markdown",
   "id": "b2f6d134",
   "metadata": {},
   "source": [
    "### count vectorizer"
   ]
  },
  {
   "cell_type": "markdown",
   "id": "4d9910df",
   "metadata": {},
   "source": [
    "## Support Vector Machines (SVM)"
   ]
  },
  {
   "cell_type": "code",
   "execution_count": 26,
   "id": "5aab9705",
   "metadata": {},
   "outputs": [],
   "source": [
    "from sklearn.linear_model import SGDClassifier\n",
    "from sklearn.feature_extraction.text import TfidfTransformer\n",
    "from sklearn.feature_extraction.text import CountVectorizer"
   ]
  },
  {
   "cell_type": "code",
   "execution_count": 19,
   "id": "1b68d373",
   "metadata": {},
   "outputs": [
    {
     "data": {
      "text/plain": [
       "<366557x460180 sparse matrix of type '<class 'numpy.int64'>'\n",
       "\twith 4536537 stored elements in Compressed Sparse Row format>"
      ]
     },
     "execution_count": 19,
     "metadata": {},
     "output_type": "execute_result"
    }
   ],
   "source": [
    "vectorizer = CountVectorizer()\n",
    "vectorizer.fit(x_train)\n",
    "X_train_cv = vectorizer.transform(x_train)\n",
    "X_test_cv  = vectorizer.transform(x_test)\n",
    "X_train_cv"
   ]
  },
  {
   "cell_type": "code",
   "execution_count": 30,
   "id": "55619f51",
   "metadata": {},
   "outputs": [
    {
     "data": {
      "text/plain": [
       "(366557, 460180)"
      ]
     },
     "execution_count": 30,
     "metadata": {},
     "output_type": "execute_result"
    }
   ],
   "source": [
    "tfidf_transformer = TfidfTransformer()\n",
    "X_train_tfidf = tfidf_transformer.fit_transform(X_train_cv)\n",
    "X_test_tfidf = tfidf_transformer.fit_transform(X_test_cv)\n",
    "X_train_tfidf.shape"
   ]
  },
  {
   "cell_type": "code",
   "execution_count": 31,
   "id": "88019ff9",
   "metadata": {},
   "outputs": [
    {
     "data": {
      "text/plain": [
       "0.5035901353120907"
      ]
     },
     "execution_count": 31,
     "metadata": {},
     "output_type": "execute_result"
    }
   ],
   "source": [
    "clf_svm = SGDClassifier(loss='hinge', penalty='l2', alpha=1e-3, random_state=42)\n",
    "_ = clf_svm.fit(X_train_tfidf, y_train)\n",
    "\n",
    "predicted_svm = clf_svm.predict(X_test_tfidf)\n",
    "np.mean(predicted_svm == y_test)"
   ]
  },
  {
   "cell_type": "markdown",
   "id": "cc03bab5",
   "metadata": {},
   "source": [
    "## Deep Learning model"
   ]
  },
  {
   "cell_type": "code",
   "execution_count": 13,
   "id": "95e2cf90",
   "metadata": {
    "id": "1V8s1oFBobuF"
   },
   "outputs": [],
   "source": [
    "import tensorflow as tf\n",
    "from tensorflow.keras.losses import BinaryCrossentropy\n",
    "from tensorflow.keras.metrics import binary_accuracy\n",
    "from tensorflow.keras.optimizers import Adam, RMSprop\n",
    "from tensorflow.keras.preprocessing.sequence import pad_sequences\n",
    "from tensorflow.keras.models import Sequential\n",
    "from tensorflow.keras.layers import Dense, SimpleRNN, Conv1D, MaxPooling1D, Embedding, LSTM, SpatialDropout1D, Flatten\n",
    "from tensorflow.keras.preprocessing.text import Tokenizer\n",
    "from tensorflow.keras.callbacks import EarlyStopping"
   ]
  },
  {
   "cell_type": "code",
   "execution_count": 20,
   "id": "1b3d7e21",
   "metadata": {
    "id": "t9ZfCl0lM9fE"
   },
   "outputs": [],
   "source": [
    "MAX_NUM_WORDS = 1000\n",
    "MAX_SEQUENCE_LENGTH = 285\n",
    "NO_OF_CLASSES = len(set(df.dialect.values))\n",
    "tokenizer = Tokenizer(num_words=MAX_NUM_WORDS)\n",
    "\n",
    "X = tokenizer.texts_to_sequences(texts=df['clean_text'].values)\n",
    "X = pad_sequences(X, maxlen=MAX_SEQUENCE_LENGTH)\n",
    "Y = pd.get_dummies(df['dialect']).values\n"
   ]
  },
  {
   "cell_type": "markdown",
   "id": "754fc5a0",
   "metadata": {
    "id": "qcJEPBp7Bpjl"
   },
   "source": [
    "### Split into train and test"
   ]
  },
  {
   "cell_type": "code",
   "execution_count": 16,
   "id": "a4c466b8",
   "metadata": {
    "colab": {
     "base_uri": "https://localhost:8080/"
    },
    "id": "U2zGlPSzpgLp",
    "outputId": "d438a66b-224a-410f-abfb-61261512f351"
   },
   "outputs": [
    {
     "data": {
      "text/plain": [
       "(366557, 285)"
      ]
     },
     "execution_count": 16,
     "metadata": {},
     "output_type": "execute_result"
    }
   ],
   "source": [
    "X_train, X_test, Y_train, Y_test = train_test_split(X,Y, test_size = 0.20, random_state = 42, stratify=Y)\n",
    "X_train.shape"
   ]
  },
  {
   "cell_type": "code",
   "execution_count": 28,
   "id": "33e93303",
   "metadata": {},
   "outputs": [
    {
     "name": "stdout",
     "output_type": "stream",
     "text": [
      "Model: \"sequential_2\"\n",
      "_________________________________________________________________\n",
      "Layer (type)                 Output Shape              Param #   \n",
      "=================================================================\n",
      "embedding_2 (Embedding)      (None, 285, 100)          100000    \n",
      "_________________________________________________________________\n",
      "flatten_2 (Flatten)          (None, 28500)             0         \n",
      "_________________________________________________________________\n",
      "dense_5 (Dense)              (None, 128)               3648128   \n",
      "_________________________________________________________________\n",
      "dense_6 (Dense)              (None, 64)                8256      \n",
      "_________________________________________________________________\n",
      "dense_7 (Dense)              (None, 18)                1170      \n",
      "=================================================================\n",
      "Total params: 3,757,554\n",
      "Trainable params: 3,757,554\n",
      "Non-trainable params: 0\n",
      "_________________________________________________________________\n"
     ]
    }
   ],
   "source": [
    "n_latent_factors = 100\n",
    "vocab_sz = MAX_NUM_WORDS\n",
    "max_length = X.shape[1]\n",
    "model2 = Sequential()\n",
    "model2.add(Embedding(vocab_sz, n_latent_factors, input_length=max_length))\n",
    "model2.add(Flatten())\n",
    "model2.add(Dense(128, activation='relu'))\n",
    "model2.add(Dense(64, activation='relu'))\n",
    "# model2.add(Dense(NO_OF_CLASSES, activation='sigmoid'))\n",
    "model2.add(Dense(NO_OF_CLASSES, activation='softmax'))\n",
    "model2.summary()"
   ]
  },
  {
   "cell_type": "code",
   "execution_count": 29,
   "id": "739732d9",
   "metadata": {},
   "outputs": [
    {
     "name": "stdout",
     "output_type": "stream",
     "text": [
      "Epoch 1/20\n",
      "1146/1146 [==============================] - 31s 26ms/step - loss: 0.2103 - binary_accuracy: 0.9444 - val_loss: 0.2085 - val_binary_accuracy: 0.9444\n",
      "Epoch 2/20\n",
      "1146/1146 [==============================] - 30s 26ms/step - loss: 0.2082 - binary_accuracy: 0.9445 - val_loss: 0.2082 - val_binary_accuracy: 0.9444\n",
      "Epoch 3/20\n",
      "1146/1146 [==============================] - 30s 27ms/step - loss: 0.2080 - binary_accuracy: 0.9445 - val_loss: 0.2078 - val_binary_accuracy: 0.9444\n",
      "Epoch 4/20\n",
      "1146/1146 [==============================] - 30s 26ms/step - loss: 0.2079 - binary_accuracy: 0.9445 - val_loss: 0.2078 - val_binary_accuracy: 0.9444\n",
      "Epoch 5/20\n",
      "1146/1146 [==============================] - 30s 26ms/step - loss: 0.2078 - binary_accuracy: 0.9445 - val_loss: 0.2077 - val_binary_accuracy: 0.9444\n",
      "Epoch 6/20\n",
      "1146/1146 [==============================] - 30s 26ms/step - loss: 0.2077 - binary_accuracy: 0.9445 - val_loss: 0.2080 - val_binary_accuracy: 0.9444\n",
      "Epoch 7/20\n",
      "1146/1146 [==============================] - 30s 26ms/step - loss: 0.2077 - binary_accuracy: 0.9445 - val_loss: 0.2077 - val_binary_accuracy: 0.9444\n",
      "Epoch 8/20\n",
      "1146/1146 [==============================] - 30s 26ms/step - loss: 0.2077 - binary_accuracy: 0.9445 - val_loss: 0.2077 - val_binary_accuracy: 0.9444\n",
      "Epoch 9/20\n",
      "1146/1146 [==============================] - 30s 26ms/step - loss: 0.2076 - binary_accuracy: 0.9445 - val_loss: 0.2076 - val_binary_accuracy: 0.9444\n",
      "Epoch 10/20\n",
      "1146/1146 [==============================] - 30s 26ms/step - loss: 0.2076 - binary_accuracy: 0.9445 - val_loss: 0.2079 - val_binary_accuracy: 0.9444\n",
      "Epoch 11/20\n",
      "1146/1146 [==============================] - 30s 26ms/step - loss: 0.2076 - binary_accuracy: 0.9445 - val_loss: 0.2079 - val_binary_accuracy: 0.9444\n",
      "Epoch 12/20\n",
      "1146/1146 [==============================] - 30s 26ms/step - loss: 0.2076 - binary_accuracy: 0.9445 - val_loss: 0.2077 - val_binary_accuracy: 0.9444\n",
      "Epoch 13/20\n",
      "1146/1146 [==============================] - 31s 27ms/step - loss: 0.2076 - binary_accuracy: 0.9445 - val_loss: 0.2076 - val_binary_accuracy: 0.9444\n",
      "Epoch 14/20\n",
      "1146/1146 [==============================] - 30s 26ms/step - loss: 0.2076 - binary_accuracy: 0.9445 - val_loss: 0.2076 - val_binary_accuracy: 0.9444\n",
      "Epoch 15/20\n",
      "1146/1146 [==============================] - 30s 27ms/step - loss: 0.2075 - binary_accuracy: 0.9445 - val_loss: 0.2076 - val_binary_accuracy: 0.9444\n",
      "Epoch 16/20\n",
      "1146/1146 [==============================] - 30s 26ms/step - loss: 0.2075 - binary_accuracy: 0.9445 - val_loss: 0.2076 - val_binary_accuracy: 0.9444\n",
      "Epoch 17/20\n",
      "1146/1146 [==============================] - 30s 27ms/step - loss: 0.2075 - binary_accuracy: 0.9445 - val_loss: 0.2076 - val_binary_accuracy: 0.9444\n",
      "Epoch 18/20\n",
      "1146/1146 [==============================] - 30s 26ms/step - loss: 0.2075 - binary_accuracy: 0.9445 - val_loss: 0.2076 - val_binary_accuracy: 0.9444\n",
      "Epoch 19/20\n",
      "1146/1146 [==============================] - 30s 26ms/step - loss: 0.2075 - binary_accuracy: 0.9445 - val_loss: 0.2075 - val_binary_accuracy: 0.9444\n",
      "Epoch 20/20\n",
      "1146/1146 [==============================] - 30s 26ms/step - loss: 0.2075 - binary_accuracy: 0.9445 - val_loss: 0.2076 - val_binary_accuracy: 0.9444\n"
     ]
    },
    {
     "data": {
      "text/plain": [
       "dict_keys(['loss', 'binary_accuracy', 'val_loss', 'val_binary_accuracy'])"
      ]
     },
     "execution_count": 29,
     "metadata": {},
     "output_type": "execute_result"
    }
   ],
   "source": [
    "model2.compile(optimizer=RMSprop(lr=0.001),\n",
    "              loss=tf.keras.losses.binary_crossentropy,\n",
    "              metrics=[binary_accuracy])\n",
    "\n",
    "history2 = model2.fit(X_train,\n",
    "                    Y_train,\n",
    "                    epochs=20,\n",
    "                    batch_size=256,\n",
    "                    validation_split=0.2)\n",
    "history_dict2 = history2.history\n",
    "history_dict2.keys()"
   ]
  },
  {
   "cell_type": "code",
   "execution_count": 30,
   "id": "8122df0f",
   "metadata": {},
   "outputs": [
    {
     "data": {
      "image/png": "[encoded data removed]",
      "text/plain": [
       "<Figure size 432x288 with 1 Axes>"
      ]
     },
     "metadata": {
      "needs_background": "light"
     },
     "output_type": "display_data"
    }
   ],
   "source": [
    "plt.plot(history2.history['loss'])\n",
    "plt.plot(history2.history['val_loss'])\n",
    "plt.title('model loss')\n",
    "plt.ylabel('loss')\n",
    "plt.xlabel('epoch')\n",
    "plt.legend(['train', 'test'], loc='upper right')\n",
    "plt.show()"
   ]
  },
  {
   "cell_type": "code",
   "execution_count": 31,
   "id": "63f73c89",
   "metadata": {},
   "outputs": [
    {
     "data": {
      "image/png": "[encoded data removed]",
      "text/plain": [
       "<Figure size 432x288 with 1 Axes>"
      ]
     },
     "metadata": {
      "needs_background": "light"
     },
     "output_type": "display_data"
    }
   ],
   "source": [
    "plt.plot(history2.history['binary_accuracy'])\n",
    "plt.plot(history2.history['val_binary_accuracy'])\n",
    "plt.title('model loss')\n",
    "plt.ylabel('loss')\n",
    "plt.xlabel('epoch')\n",
    "plt.legend(['train', 'test'], loc='upper right')\n",
    "plt.show()"
   ]
  },
  {
   "cell_type": "code",
   "execution_count": 32,
   "id": "551d09b8",
   "metadata": {},
   "outputs": [
    {
     "name": "stdout",
     "output_type": "stream",
     "text": [
      "Accuracy: 94.44%\n"
     ]
    }
   ],
   "source": [
    "# Final evaluation of the model\n",
    "scores = model2.evaluate(X_test, Y_test, verbose=0)\n",
    "print(\"Accuracy: %.2f%%\" % (scores[1]*100))"
   ]
  },
  {
   "cell_type": "code",
   "execution_count": 33,
   "id": "28e10f16",
   "metadata": {},
   "outputs": [],
   "source": [
    "model2.save('DL_model.h5')"
   ]
  },
  {
   "cell_type": "code",
   "execution_count": 34,
   "id": "a8b8ea9f",
   "metadata": {},
   "outputs": [],
   "source": [
    "import pickle\n",
    "\n",
    "# saving\n",
    "with open('tokenizer.pickle', 'wb') as handle:\n",
    "    pickle.dump(tokenizer, handle, protocol=pickle.HIGHEST_PROTOCOL)"
   ]
  },
  {
   "cell_type": "code",
   "execution_count": null,
   "id": "5d5d34b4",
   "metadata": {},
   "outputs": [],
   "source": []
  }
 ],
 "metadata": {
  "accelerator": "GPU",
  "colab": {
   "name": "NLP dialect detection.ipynb",
   "provenance": []
  },
  "kernelspec": {
   "display_name": "Python [conda env:root] *",
   "language": "python",
   "name": "conda-root-py"
  },
  "language_info": {
   "codemirror_mode": {
    "name": "ipython",
    "version": 3
   },
   "file_extension": ".py",
   "mimetype": "text/x-python",
   "name": "python",
   "nbconvert_exporter": "python",
   "pygments_lexer": "ipython3",
   "version": "3.6.15"
  }
 },
 "nbformat": 4,
 "nbformat_minor": 5
}
