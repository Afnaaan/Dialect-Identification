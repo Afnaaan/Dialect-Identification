{
 "cells": [
  {
   "cell_type": "markdown",
   "id": "77f904af",
   "metadata": {
    "id": "3030a384"
   },
   "source": [
    "## 1. Install and import liberaries"
   ]
  },
  {
   "cell_type": "code",
   "execution_count": 2,
   "id": "ec336415",
   "metadata": {
    "id": "1498b713"
   },
   "outputs": [],
   "source": [
    "import numpy as np\n",
    "import pandas as pd\n",
    "import matplotlib.pyplot as plt\n",
    "import seaborn as sns\n",
    "\n",
    "import re\n",
    "import os"
   ]
  },
  {
   "cell_type": "markdown",
   "id": "fff7f958",
   "metadata": {
    "id": "8ce8213e"
   },
   "source": [
    "## 2. Load data from csv and API"
   ]
  },
  {
   "cell_type": "code",
   "execution_count": 25,
   "id": "891a1fee",
   "metadata": {
    "id": "488eb89f"
   },
   "outputs": [
    {
     "data": {
      "text/html": [
       "<div>\n",
       "<style scoped>\n",
       "    .dataframe tbody tr th:only-of-type {\n",
       "        vertical-align: middle;\n",
       "    }\n",
       "\n",
       "    .dataframe tbody tr th {\n",
       "        vertical-align: top;\n",
       "    }\n",
       "\n",
       "    .dataframe thead th {\n",
       "        text-align: right;\n",
       "    }\n",
       "</style>\n",
       "<table border=\"1\" class=\"dataframe\">\n",
       "  <thead>\n",
       "    <tr style=\"text-align: right;\">\n",
       "      <th></th>\n",
       "      <th>id</th>\n",
       "      <th>dialect</th>\n",
       "      <th>text</th>\n",
       "      <th>word_count</th>\n",
       "      <th>char_count</th>\n",
       "    </tr>\n",
       "  </thead>\n",
       "  <tbody>\n",
       "    <tr>\n",
       "      <th>0</th>\n",
       "      <td>1175358310087892992</td>\n",
       "      <td>IQ</td>\n",
       "      <td>@Nw8ieJUwaCAAreT لكن بالنهاية .. ينتفض .. يغير .</td>\n",
       "      <td>8</td>\n",
       "      <td>48</td>\n",
       "    </tr>\n",
       "    <tr>\n",
       "      <th>1</th>\n",
       "      <td>1175416117793349632</td>\n",
       "      <td>IQ</td>\n",
       "      <td>@7zNqXP0yrODdRjK يعني هذا محسوب على البشر .. ح...</td>\n",
       "      <td>19</td>\n",
       "      <td>120</td>\n",
       "    </tr>\n",
       "    <tr>\n",
       "      <th>2</th>\n",
       "      <td>1175450108898565888</td>\n",
       "      <td>IQ</td>\n",
       "      <td>@KanaanRema مبين من كلامه خليجي</td>\n",
       "      <td>5</td>\n",
       "      <td>31</td>\n",
       "    </tr>\n",
       "    <tr>\n",
       "      <th>3</th>\n",
       "      <td>1175471073770573824</td>\n",
       "      <td>IQ</td>\n",
       "      <td>@HAIDER76128900 يسلملي مرورك وروحك الحلوه💐</td>\n",
       "      <td>5</td>\n",
       "      <td>42</td>\n",
       "    </tr>\n",
       "    <tr>\n",
       "      <th>4</th>\n",
       "      <td>1175496913145217024</td>\n",
       "      <td>IQ</td>\n",
       "      <td>@hmo2406 وين هل الغيبه  اخ محمد 🌸🌺</td>\n",
       "      <td>7</td>\n",
       "      <td>34</td>\n",
       "    </tr>\n",
       "    <tr>\n",
       "      <th>...</th>\n",
       "      <td>...</td>\n",
       "      <td>...</td>\n",
       "      <td>...</td>\n",
       "      <td>...</td>\n",
       "      <td>...</td>\n",
       "    </tr>\n",
       "    <tr>\n",
       "      <th>458192</th>\n",
       "      <td>1019484980282580992</td>\n",
       "      <td>BH</td>\n",
       "      <td>@Al_mhbaa_7 مبسوطين منك اللي باسطانا😅</td>\n",
       "      <td>5</td>\n",
       "      <td>37</td>\n",
       "    </tr>\n",
       "    <tr>\n",
       "      <th>458193</th>\n",
       "      <td>1021083283709407232</td>\n",
       "      <td>BH</td>\n",
       "      <td>@Zzainabali @P_ameerah والله ماينده ابش يختي</td>\n",
       "      <td>6</td>\n",
       "      <td>44</td>\n",
       "    </tr>\n",
       "    <tr>\n",
       "      <th>458194</th>\n",
       "      <td>1017477537889431552</td>\n",
       "      <td>BH</td>\n",
       "      <td>@Al_mhbaa_7 شو عملنا لك حنا تهربي مننا احنا مس...</td>\n",
       "      <td>14</td>\n",
       "      <td>73</td>\n",
       "    </tr>\n",
       "    <tr>\n",
       "      <th>458195</th>\n",
       "      <td>1022430374696239232</td>\n",
       "      <td>BH</td>\n",
       "      <td>@haneenalmwla الله يبارك فيها وبالعافيه 😋😋😋</td>\n",
       "      <td>6</td>\n",
       "      <td>43</td>\n",
       "    </tr>\n",
       "    <tr>\n",
       "      <th>458196</th>\n",
       "      <td>1022409931029458944</td>\n",
       "      <td>BH</td>\n",
       "      <td>@jolnar121 السحله ضيفي ي بتطلع لك سحليه😅😅</td>\n",
       "      <td>7</td>\n",
       "      <td>41</td>\n",
       "    </tr>\n",
       "  </tbody>\n",
       "</table>\n",
       "<p>458197 rows × 5 columns</p>\n",
       "</div>"
      ],
      "text/plain": [
       "                         id dialect  \\\n",
       "0       1175358310087892992      IQ   \n",
       "1       1175416117793349632      IQ   \n",
       "2       1175450108898565888      IQ   \n",
       "3       1175471073770573824      IQ   \n",
       "4       1175496913145217024      IQ   \n",
       "...                     ...     ...   \n",
       "458192  1019484980282580992      BH   \n",
       "458193  1021083283709407232      BH   \n",
       "458194  1017477537889431552      BH   \n",
       "458195  1022430374696239232      BH   \n",
       "458196  1022409931029458944      BH   \n",
       "\n",
       "                                                     text  word_count  \\\n",
       "0        @Nw8ieJUwaCAAreT لكن بالنهاية .. ينتفض .. يغير .           8   \n",
       "1       @7zNqXP0yrODdRjK يعني هذا محسوب على البشر .. ح...          19   \n",
       "2                         @KanaanRema مبين من كلامه خليجي           5   \n",
       "3              @HAIDER76128900 يسلملي مرورك وروحك الحلوه💐           5   \n",
       "4                      @hmo2406 وين هل الغيبه  اخ محمد 🌸🌺           7   \n",
       "...                                                   ...         ...   \n",
       "458192              @Al_mhbaa_7 مبسوطين منك اللي باسطانا😅           5   \n",
       "458193       @Zzainabali @P_ameerah والله ماينده ابش يختي           6   \n",
       "458194  @Al_mhbaa_7 شو عملنا لك حنا تهربي مننا احنا مس...          14   \n",
       "458195        @haneenalmwla الله يبارك فيها وبالعافيه 😋😋😋           6   \n",
       "458196          @jolnar121 السحله ضيفي ي بتطلع لك سحليه😅😅           7   \n",
       "\n",
       "        char_count  \n",
       "0               48  \n",
       "1              120  \n",
       "2               31  \n",
       "3               42  \n",
       "4               34  \n",
       "...            ...  \n",
       "458192          37  \n",
       "458193          44  \n",
       "458194          73  \n",
       "458195          43  \n",
       "458196          41  \n",
       "\n",
       "[458197 rows x 5 columns]"
      ]
     },
     "execution_count": 25,
     "metadata": {},
     "output_type": "execute_result"
    }
   ],
   "source": [
    "path = \"Additional files\"\n",
    "df = pd.read_csv(os.path.join(path, 'dialect_dataset_fetched.csv'))\n",
    "df"
   ]
  },
  {
   "cell_type": "markdown",
   "id": "37ca04fe",
   "metadata": {
    "id": "18f9d472"
   },
   "source": [
    "## 4. Preprocess"
   ]
  },
  {
   "cell_type": "markdown",
   "id": "8ef51416",
   "metadata": {
    "id": "0bc205d8"
   },
   "source": [
    "### Remove mentions, hashtags, URLs, and punctuations"
   ]
  },
  {
   "cell_type": "code",
   "execution_count": 6,
   "id": "d46a7185",
   "metadata": {
    "id": "84c28d49"
   },
   "outputs": [],
   "source": [
    "x = df.loc[0].text"
   ]
  },
  {
   "cell_type": "code",
   "execution_count": 7,
   "id": "e300b385",
   "metadata": {
    "id": "fd4037ba",
    "outputId": "99b46fda-0702-4482-e393-d8bdb52a3c93"
   },
   "outputs": [
    {
     "data": {
      "text/plain": [
       "'@Nw8ieJUwaCAAreT لكن بالنهاية .. ينتفض .. يغير .'"
      ]
     },
     "execution_count": 7,
     "metadata": {},
     "output_type": "execute_result"
    }
   ],
   "source": [
    "x"
   ]
  },
  {
   "cell_type": "code",
   "execution_count": 8,
   "id": "48e467be",
   "metadata": {
    "id": "16fb3ec8",
    "outputId": "57f22191-5ed5-4080-d40b-b84c78c303e9"
   },
   "outputs": [
    {
     "data": {
      "text/plain": [
       "'@Nw8ieJUwaCAAreT لكن بالنهاية .. ينتفض .. يغير .'"
      ]
     },
     "execution_count": 8,
     "metadata": {},
     "output_type": "execute_result"
    }
   ],
   "source": [
    "x"
   ]
  },
  {
   "cell_type": "code",
   "execution_count": 9,
   "id": "6654395b",
   "metadata": {
    "id": "4b64a5a3",
    "outputId": "7042d608-e6be-471c-ff82-3b6f5edc61c6"
   },
   "outputs": [
    {
     "data": {
      "text/plain": [
       "'لكن بالنهاية ينتفض يغير'"
      ]
     },
     "execution_count": 9,
     "metadata": {},
     "output_type": "execute_result"
    }
   ],
   "source": [
    "' '.join(re.sub(\"(@[A-Za-z0-9]+)|(#[A-Za-z0-9]+)|(\\w+:\\/\\/\\S+)|[\\.\\,\\!\\?\\:\\;\\-\\=\\\"\\']\",\"\",x).split())"
   ]
  },
  {
   "cell_type": "markdown",
   "id": "80092572",
   "metadata": {
    "id": "44e88ec2"
   },
   "source": [
    "### Remove punctuations"
   ]
  },
  {
   "cell_type": "code",
   "execution_count": 10,
   "id": "ae9dd2b2",
   "metadata": {
    "id": "bf467faf",
    "outputId": "c0f2de9d-84bd-4585-e4e5-d58bc5795e06"
   },
   "outputs": [
    {
     "data": {
      "text/plain": [
       "'@Nw8ieJUwaCAAreT لكن بالنهاية ينتفض يغير'"
      ]
     },
     "execution_count": 10,
     "metadata": {},
     "output_type": "execute_result"
    }
   ],
   "source": [
    "' '.join(re.sub(\"[\\.\\,\\!\\?\\:\\;\\-\\=\\\"\\']\", \" \", x).split())"
   ]
  },
  {
   "cell_type": "markdown",
   "id": "680d8de3",
   "metadata": {
    "id": "c8ac36a7"
   },
   "source": [
    "### Remove emoji"
   ]
  },
  {
   "cell_type": "code",
   "execution_count": 11,
   "id": "6c4c3bd3",
   "metadata": {
    "id": "3f98d6d8",
    "outputId": "2a22b010-7fdd-43ad-e925-986d1adfdbbe"
   },
   "outputs": [
    {
     "data": {
      "text/plain": [
       "'@HAIDER76128900 يسلملي مرورك وروحك الحلوه💐'"
      ]
     },
     "execution_count": 11,
     "metadata": {},
     "output_type": "execute_result"
    }
   ],
   "source": [
    "y = df.loc[3].text\n",
    "y"
   ]
  },
  {
   "cell_type": "code",
   "execution_count": 12,
   "id": "184d4aba",
   "metadata": {},
   "outputs": [
    {
     "data": {
      "text/plain": [
       "'@HAIDER76128900 يسلملي مرورك وروحك الحلوه'"
      ]
     },
     "execution_count": 12,
     "metadata": {},
     "output_type": "execute_result"
    }
   ],
   "source": [
    "' '.join(re.sub(\"[\"\n",
    "        u\"\\U0001F600-\\U0001F64F\"  # emoticons\n",
    "        u\"\\U0001F300-\\U0001F5FF\"  # symbols & pictographs\n",
    "        u\"\\U0001F680-\\U0001F6FF\"  # transport & map symbols\n",
    "        u\"\\U0001F1E0-\\U0001F1FF\"  # flags (iOS)\n",
    "        u\"\\U00002500-\\U00002BEF\"  # chinese char\n",
    "        u\"\\U00002702-\\U000027B0\"\n",
    "        u\"\\U00002702-\\U000027B0\"\n",
    "        u\"\\U000024C2-\\U0001F251\"\n",
    "        u\"\\U0001f926-\\U0001f937\"\n",
    "        u\"\\U00010000-\\U0010ffff\"\n",
    "        u\"\\u2640-\\u2642\" \n",
    "        u\"\\u2600-\\u2B55\"\n",
    "        u\"\\u200d\"\n",
    "        u\"\\u23cf\"\n",
    "        u\"\\u23e9\"\n",
    "        u\"\\u231a\"\n",
    "        u\"\\ufe0f\"  # dingbats\n",
    "        u\"\\u3030\"\n",
    "                      \"]+\",\"\",y).split())"
   ]
  },
  {
   "cell_type": "markdown",
   "id": "026307c2",
   "metadata": {
    "id": "d047b3f6"
   },
   "source": [
    "## Apply preprocessing"
   ]
  },
  {
   "cell_type": "code",
   "execution_count": 13,
   "id": "fef27a6f",
   "metadata": {
    "id": "2d7689f0"
   },
   "outputs": [],
   "source": [
    "def remove_tags_urls(string):\n",
    "    return ' '.join(re.sub(\"(@[A-Za-z0-9-_]+)|(#[A-Za-z0-9]+)|(\\w+:\\/\\/\\S+)\",\"\", string).split())"
   ]
  },
  {
   "cell_type": "code",
   "execution_count": 14,
   "id": "636848fa",
   "metadata": {
    "id": "3c667ca8"
   },
   "outputs": [],
   "source": [
    "def remove_punc(string):\n",
    "    return ' '.join(re.sub(\"[\\.\\,\\!\\?\\:\\;\\-\\=\\\"\\'\\_]\",\"\", string).split())"
   ]
  },
  {
   "cell_type": "code",
   "execution_count": 15,
   "id": "cb174f2e",
   "metadata": {
    "id": "fdc06f6c"
   },
   "outputs": [],
   "source": [
    "def remove_emojis(data):\n",
    "    emoj = re.compile(\"[\"\n",
    "        u\"\\U0001F600-\\U0001F64F\"  # emoticons\n",
    "        u\"\\U0001F300-\\U0001F5FF\"  # symbols & pictographs\n",
    "        u\"\\U0001F680-\\U0001F6FF\"  # transport & map symbols\n",
    "        u\"\\U0001F1E0-\\U0001F1FF\"  # flags (iOS)\n",
    "        u\"\\U00002500-\\U00002BEF\"  # chinese char\n",
    "        u\"\\U00002702-\\U000027B0\"\n",
    "        u\"\\U00002702-\\U000027B0\"\n",
    "        u\"\\U000024C2-\\U0001F251\"\n",
    "        u\"\\U0001f926-\\U0001f937\"\n",
    "        u\"\\U00010000-\\U0010ffff\"\n",
    "        u\"\\u2640-\\u2642\" \n",
    "        u\"\\u2600-\\u2B55\"\n",
    "        u\"\\u200d\"\n",
    "        u\"\\u23cf\"\n",
    "        u\"\\u23e9\"\n",
    "        u\"\\u231a\"\n",
    "        u\"\\ufe0f\"  # dingbats\n",
    "        u\"\\u3030\"\n",
    "                      \"]+\", re.UNICODE)\n",
    "    return re.sub(emoj, '', data)"
   ]
  },
  {
   "cell_type": "code",
   "execution_count": 26,
   "id": "5953f2a0",
   "metadata": {
    "colab": {
     "base_uri": "https://localhost:8080/",
     "height": 424
    },
    "id": "aa3958e3",
    "outputId": "1c671b13-8690-4a46-d1d9-96d5132eae90"
   },
   "outputs": [
    {
     "data": {
      "text/html": [
       "<div>\n",
       "<style scoped>\n",
       "    .dataframe tbody tr th:only-of-type {\n",
       "        vertical-align: middle;\n",
       "    }\n",
       "\n",
       "    .dataframe tbody tr th {\n",
       "        vertical-align: top;\n",
       "    }\n",
       "\n",
       "    .dataframe thead th {\n",
       "        text-align: right;\n",
       "    }\n",
       "</style>\n",
       "<table border=\"1\" class=\"dataframe\">\n",
       "  <thead>\n",
       "    <tr style=\"text-align: right;\">\n",
       "      <th></th>\n",
       "      <th>id</th>\n",
       "      <th>dialect</th>\n",
       "      <th>text</th>\n",
       "      <th>word_count</th>\n",
       "      <th>char_count</th>\n",
       "      <th>clean_text</th>\n",
       "    </tr>\n",
       "  </thead>\n",
       "  <tbody>\n",
       "    <tr>\n",
       "      <th>0</th>\n",
       "      <td>1175358310087892992</td>\n",
       "      <td>IQ</td>\n",
       "      <td>@Nw8ieJUwaCAAreT لكن بالنهاية .. ينتفض .. يغير .</td>\n",
       "      <td>8</td>\n",
       "      <td>48</td>\n",
       "      <td>لكن بالنهاية ينتفض يغير</td>\n",
       "    </tr>\n",
       "    <tr>\n",
       "      <th>1</th>\n",
       "      <td>1175416117793349632</td>\n",
       "      <td>IQ</td>\n",
       "      <td>@7zNqXP0yrODdRjK يعني هذا محسوب على البشر .. ح...</td>\n",
       "      <td>19</td>\n",
       "      <td>120</td>\n",
       "      <td>يعني هذا محسوب على البشر حيونه ووحشيه وتطلبون ...</td>\n",
       "    </tr>\n",
       "    <tr>\n",
       "      <th>2</th>\n",
       "      <td>1175450108898565888</td>\n",
       "      <td>IQ</td>\n",
       "      <td>@KanaanRema مبين من كلامه خليجي</td>\n",
       "      <td>5</td>\n",
       "      <td>31</td>\n",
       "      <td>مبين من كلامه خليجي</td>\n",
       "    </tr>\n",
       "    <tr>\n",
       "      <th>3</th>\n",
       "      <td>1175471073770573824</td>\n",
       "      <td>IQ</td>\n",
       "      <td>@HAIDER76128900 يسلملي مرورك وروحك الحلوه💐</td>\n",
       "      <td>5</td>\n",
       "      <td>42</td>\n",
       "      <td>يسلملي مرورك وروحك الحلوه</td>\n",
       "    </tr>\n",
       "    <tr>\n",
       "      <th>4</th>\n",
       "      <td>1175496913145217024</td>\n",
       "      <td>IQ</td>\n",
       "      <td>@hmo2406 وين هل الغيبه  اخ محمد 🌸🌺</td>\n",
       "      <td>7</td>\n",
       "      <td>34</td>\n",
       "      <td>وين هل الغيبه اخ محمد</td>\n",
       "    </tr>\n",
       "    <tr>\n",
       "      <th>...</th>\n",
       "      <td>...</td>\n",
       "      <td>...</td>\n",
       "      <td>...</td>\n",
       "      <td>...</td>\n",
       "      <td>...</td>\n",
       "      <td>...</td>\n",
       "    </tr>\n",
       "    <tr>\n",
       "      <th>458192</th>\n",
       "      <td>1019484980282580992</td>\n",
       "      <td>BH</td>\n",
       "      <td>@Al_mhbaa_7 مبسوطين منك اللي باسطانا😅</td>\n",
       "      <td>5</td>\n",
       "      <td>37</td>\n",
       "      <td>مبسوطين منك اللي باسطانا</td>\n",
       "    </tr>\n",
       "    <tr>\n",
       "      <th>458193</th>\n",
       "      <td>1021083283709407232</td>\n",
       "      <td>BH</td>\n",
       "      <td>@Zzainabali @P_ameerah والله ماينده ابش يختي</td>\n",
       "      <td>6</td>\n",
       "      <td>44</td>\n",
       "      <td>والله ماينده ابش يختي</td>\n",
       "    </tr>\n",
       "    <tr>\n",
       "      <th>458194</th>\n",
       "      <td>1017477537889431552</td>\n",
       "      <td>BH</td>\n",
       "      <td>@Al_mhbaa_7 شو عملنا لك حنا تهربي مننا احنا مس...</td>\n",
       "      <td>14</td>\n",
       "      <td>73</td>\n",
       "      <td>شو عملنا لك حنا تهربي مننا احنا مساكين ليش بتع...</td>\n",
       "    </tr>\n",
       "    <tr>\n",
       "      <th>458195</th>\n",
       "      <td>1022430374696239232</td>\n",
       "      <td>BH</td>\n",
       "      <td>@haneenalmwla الله يبارك فيها وبالعافيه 😋😋😋</td>\n",
       "      <td>6</td>\n",
       "      <td>43</td>\n",
       "      <td>الله يبارك فيها وبالعافيه</td>\n",
       "    </tr>\n",
       "    <tr>\n",
       "      <th>458196</th>\n",
       "      <td>1022409931029458944</td>\n",
       "      <td>BH</td>\n",
       "      <td>@jolnar121 السحله ضيفي ي بتطلع لك سحليه😅😅</td>\n",
       "      <td>7</td>\n",
       "      <td>41</td>\n",
       "      <td>السحله ضيفي ي بتطلع لك سحليه</td>\n",
       "    </tr>\n",
       "  </tbody>\n",
       "</table>\n",
       "<p>458197 rows × 6 columns</p>\n",
       "</div>"
      ],
      "text/plain": [
       "                         id dialect  \\\n",
       "0       1175358310087892992      IQ   \n",
       "1       1175416117793349632      IQ   \n",
       "2       1175450108898565888      IQ   \n",
       "3       1175471073770573824      IQ   \n",
       "4       1175496913145217024      IQ   \n",
       "...                     ...     ...   \n",
       "458192  1019484980282580992      BH   \n",
       "458193  1021083283709407232      BH   \n",
       "458194  1017477537889431552      BH   \n",
       "458195  1022430374696239232      BH   \n",
       "458196  1022409931029458944      BH   \n",
       "\n",
       "                                                     text  word_count  \\\n",
       "0        @Nw8ieJUwaCAAreT لكن بالنهاية .. ينتفض .. يغير .           8   \n",
       "1       @7zNqXP0yrODdRjK يعني هذا محسوب على البشر .. ح...          19   \n",
       "2                         @KanaanRema مبين من كلامه خليجي           5   \n",
       "3              @HAIDER76128900 يسلملي مرورك وروحك الحلوه💐           5   \n",
       "4                      @hmo2406 وين هل الغيبه  اخ محمد 🌸🌺           7   \n",
       "...                                                   ...         ...   \n",
       "458192              @Al_mhbaa_7 مبسوطين منك اللي باسطانا😅           5   \n",
       "458193       @Zzainabali @P_ameerah والله ماينده ابش يختي           6   \n",
       "458194  @Al_mhbaa_7 شو عملنا لك حنا تهربي مننا احنا مس...          14   \n",
       "458195        @haneenalmwla الله يبارك فيها وبالعافيه 😋😋😋           6   \n",
       "458196          @jolnar121 السحله ضيفي ي بتطلع لك سحليه😅😅           7   \n",
       "\n",
       "        char_count                                         clean_text  \n",
       "0               48                            لكن بالنهاية ينتفض يغير  \n",
       "1              120  يعني هذا محسوب على البشر حيونه ووحشيه وتطلبون ...  \n",
       "2               31                                مبين من كلامه خليجي  \n",
       "3               42                          يسلملي مرورك وروحك الحلوه  \n",
       "4               34                             وين هل الغيبه اخ محمد   \n",
       "...            ...                                                ...  \n",
       "458192          37                           مبسوطين منك اللي باسطانا  \n",
       "458193          44                              والله ماينده ابش يختي  \n",
       "458194          73  شو عملنا لك حنا تهربي مننا احنا مساكين ليش بتع...  \n",
       "458195          43                         الله يبارك فيها وبالعافيه   \n",
       "458196          41                       السحله ضيفي ي بتطلع لك سحليه  \n",
       "\n",
       "[458197 rows x 6 columns]"
      ]
     },
     "execution_count": 26,
     "metadata": {},
     "output_type": "execute_result"
    }
   ],
   "source": [
    "def finalpreprocess(string_):\n",
    "    string_ = remove_tags_urls(string_)\n",
    "    string_ = remove_punc(string_)\n",
    "    return remove_emojis(string_)\n",
    "\n",
    "df['clean_text'] = df['text'].apply(lambda x: finalpreprocess(x))\n",
    "df"
   ]
  },
  {
   "cell_type": "markdown",
   "id": "f95f1b2b",
   "metadata": {
    "id": "2213cbf3"
   },
   "source": [
    "### Number of words in a tweet"
   ]
  },
  {
   "cell_type": "code",
   "execution_count": 27,
   "id": "efcd0634",
   "metadata": {
    "id": "27a82efa",
    "outputId": "8a2bcf15-e9d2-4c5b-b4f8-57595dc3b676"
   },
   "outputs": [
    {
     "data": {
      "text/html": [
       "<div>\n",
       "<style scoped>\n",
       "    .dataframe tbody tr th:only-of-type {\n",
       "        vertical-align: middle;\n",
       "    }\n",
       "\n",
       "    .dataframe tbody tr th {\n",
       "        vertical-align: top;\n",
       "    }\n",
       "\n",
       "    .dataframe thead th {\n",
       "        text-align: right;\n",
       "    }\n",
       "</style>\n",
       "<table border=\"1\" class=\"dataframe\">\n",
       "  <thead>\n",
       "    <tr style=\"text-align: right;\">\n",
       "      <th></th>\n",
       "      <th>id</th>\n",
       "      <th>dialect</th>\n",
       "      <th>text</th>\n",
       "      <th>word_count</th>\n",
       "      <th>char_count</th>\n",
       "      <th>clean_text</th>\n",
       "      <th>clean_word_count</th>\n",
       "    </tr>\n",
       "  </thead>\n",
       "  <tbody>\n",
       "    <tr>\n",
       "      <th>0</th>\n",
       "      <td>1175358310087892992</td>\n",
       "      <td>IQ</td>\n",
       "      <td>@Nw8ieJUwaCAAreT لكن بالنهاية .. ينتفض .. يغير .</td>\n",
       "      <td>8</td>\n",
       "      <td>48</td>\n",
       "      <td>لكن بالنهاية ينتفض يغير</td>\n",
       "      <td>4</td>\n",
       "    </tr>\n",
       "    <tr>\n",
       "      <th>1</th>\n",
       "      <td>1175416117793349632</td>\n",
       "      <td>IQ</td>\n",
       "      <td>@7zNqXP0yrODdRjK يعني هذا محسوب على البشر .. ح...</td>\n",
       "      <td>19</td>\n",
       "      <td>120</td>\n",
       "      <td>يعني هذا محسوب على البشر حيونه ووحشيه وتطلبون ...</td>\n",
       "      <td>15</td>\n",
       "    </tr>\n",
       "    <tr>\n",
       "      <th>2</th>\n",
       "      <td>1175450108898565888</td>\n",
       "      <td>IQ</td>\n",
       "      <td>@KanaanRema مبين من كلامه خليجي</td>\n",
       "      <td>5</td>\n",
       "      <td>31</td>\n",
       "      <td>مبين من كلامه خليجي</td>\n",
       "      <td>4</td>\n",
       "    </tr>\n",
       "    <tr>\n",
       "      <th>3</th>\n",
       "      <td>1175471073770573824</td>\n",
       "      <td>IQ</td>\n",
       "      <td>@HAIDER76128900 يسلملي مرورك وروحك الحلوه💐</td>\n",
       "      <td>5</td>\n",
       "      <td>42</td>\n",
       "      <td>يسلملي مرورك وروحك الحلوه</td>\n",
       "      <td>4</td>\n",
       "    </tr>\n",
       "    <tr>\n",
       "      <th>4</th>\n",
       "      <td>1175496913145217024</td>\n",
       "      <td>IQ</td>\n",
       "      <td>@hmo2406 وين هل الغيبه  اخ محمد 🌸🌺</td>\n",
       "      <td>7</td>\n",
       "      <td>34</td>\n",
       "      <td>وين هل الغيبه اخ محمد</td>\n",
       "      <td>5</td>\n",
       "    </tr>\n",
       "    <tr>\n",
       "      <th>...</th>\n",
       "      <td>...</td>\n",
       "      <td>...</td>\n",
       "      <td>...</td>\n",
       "      <td>...</td>\n",
       "      <td>...</td>\n",
       "      <td>...</td>\n",
       "      <td>...</td>\n",
       "    </tr>\n",
       "    <tr>\n",
       "      <th>458192</th>\n",
       "      <td>1019484980282580992</td>\n",
       "      <td>BH</td>\n",
       "      <td>@Al_mhbaa_7 مبسوطين منك اللي باسطانا😅</td>\n",
       "      <td>5</td>\n",
       "      <td>37</td>\n",
       "      <td>مبسوطين منك اللي باسطانا</td>\n",
       "      <td>4</td>\n",
       "    </tr>\n",
       "    <tr>\n",
       "      <th>458193</th>\n",
       "      <td>1021083283709407232</td>\n",
       "      <td>BH</td>\n",
       "      <td>@Zzainabali @P_ameerah والله ماينده ابش يختي</td>\n",
       "      <td>6</td>\n",
       "      <td>44</td>\n",
       "      <td>والله ماينده ابش يختي</td>\n",
       "      <td>4</td>\n",
       "    </tr>\n",
       "    <tr>\n",
       "      <th>458194</th>\n",
       "      <td>1017477537889431552</td>\n",
       "      <td>BH</td>\n",
       "      <td>@Al_mhbaa_7 شو عملنا لك حنا تهربي مننا احنا مس...</td>\n",
       "      <td>14</td>\n",
       "      <td>73</td>\n",
       "      <td>شو عملنا لك حنا تهربي مننا احنا مساكين ليش بتع...</td>\n",
       "      <td>12</td>\n",
       "    </tr>\n",
       "    <tr>\n",
       "      <th>458195</th>\n",
       "      <td>1022430374696239232</td>\n",
       "      <td>BH</td>\n",
       "      <td>@haneenalmwla الله يبارك فيها وبالعافيه 😋😋😋</td>\n",
       "      <td>6</td>\n",
       "      <td>43</td>\n",
       "      <td>الله يبارك فيها وبالعافيه</td>\n",
       "      <td>4</td>\n",
       "    </tr>\n",
       "    <tr>\n",
       "      <th>458196</th>\n",
       "      <td>1022409931029458944</td>\n",
       "      <td>BH</td>\n",
       "      <td>@jolnar121 السحله ضيفي ي بتطلع لك سحليه😅😅</td>\n",
       "      <td>7</td>\n",
       "      <td>41</td>\n",
       "      <td>السحله ضيفي ي بتطلع لك سحليه</td>\n",
       "      <td>6</td>\n",
       "    </tr>\n",
       "  </tbody>\n",
       "</table>\n",
       "<p>458197 rows × 7 columns</p>\n",
       "</div>"
      ],
      "text/plain": [
       "                         id dialect  \\\n",
       "0       1175358310087892992      IQ   \n",
       "1       1175416117793349632      IQ   \n",
       "2       1175450108898565888      IQ   \n",
       "3       1175471073770573824      IQ   \n",
       "4       1175496913145217024      IQ   \n",
       "...                     ...     ...   \n",
       "458192  1019484980282580992      BH   \n",
       "458193  1021083283709407232      BH   \n",
       "458194  1017477537889431552      BH   \n",
       "458195  1022430374696239232      BH   \n",
       "458196  1022409931029458944      BH   \n",
       "\n",
       "                                                     text  word_count  \\\n",
       "0        @Nw8ieJUwaCAAreT لكن بالنهاية .. ينتفض .. يغير .           8   \n",
       "1       @7zNqXP0yrODdRjK يعني هذا محسوب على البشر .. ح...          19   \n",
       "2                         @KanaanRema مبين من كلامه خليجي           5   \n",
       "3              @HAIDER76128900 يسلملي مرورك وروحك الحلوه💐           5   \n",
       "4                      @hmo2406 وين هل الغيبه  اخ محمد 🌸🌺           7   \n",
       "...                                                   ...         ...   \n",
       "458192              @Al_mhbaa_7 مبسوطين منك اللي باسطانا😅           5   \n",
       "458193       @Zzainabali @P_ameerah والله ماينده ابش يختي           6   \n",
       "458194  @Al_mhbaa_7 شو عملنا لك حنا تهربي مننا احنا مس...          14   \n",
       "458195        @haneenalmwla الله يبارك فيها وبالعافيه 😋😋😋           6   \n",
       "458196          @jolnar121 السحله ضيفي ي بتطلع لك سحليه😅😅           7   \n",
       "\n",
       "        char_count                                         clean_text  \\\n",
       "0               48                            لكن بالنهاية ينتفض يغير   \n",
       "1              120  يعني هذا محسوب على البشر حيونه ووحشيه وتطلبون ...   \n",
       "2               31                                مبين من كلامه خليجي   \n",
       "3               42                          يسلملي مرورك وروحك الحلوه   \n",
       "4               34                             وين هل الغيبه اخ محمد    \n",
       "...            ...                                                ...   \n",
       "458192          37                           مبسوطين منك اللي باسطانا   \n",
       "458193          44                              والله ماينده ابش يختي   \n",
       "458194          73  شو عملنا لك حنا تهربي مننا احنا مساكين ليش بتع...   \n",
       "458195          43                         الله يبارك فيها وبالعافيه    \n",
       "458196          41                       السحله ضيفي ي بتطلع لك سحليه   \n",
       "\n",
       "        clean_word_count  \n",
       "0                      4  \n",
       "1                     15  \n",
       "2                      4  \n",
       "3                      4  \n",
       "4                      5  \n",
       "...                  ...  \n",
       "458192                 4  \n",
       "458193                 4  \n",
       "458194                12  \n",
       "458195                 4  \n",
       "458196                 6  \n",
       "\n",
       "[458197 rows x 7 columns]"
      ]
     },
     "execution_count": 27,
     "metadata": {},
     "output_type": "execute_result"
    }
   ],
   "source": [
    "df['clean_word_count'] = df['clean_text'].apply(lambda x: len(str(x).split()))\n",
    "df"
   ]
  },
  {
   "cell_type": "code",
   "execution_count": 22,
   "id": "d5170daf",
   "metadata": {
    "id": "f8fff8a7",
    "outputId": "5fe18108-44af-4a2a-a1c3-ffcfb6ac5102"
   },
   "outputs": [
    {
     "data": {
      "text/plain": [
       "{'AE',\n",
       " 'BH',\n",
       " 'DZ',\n",
       " 'EG',\n",
       " 'IQ',\n",
       " 'JO',\n",
       " 'KW',\n",
       " 'LB',\n",
       " 'LY',\n",
       " 'MA',\n",
       " 'OM',\n",
       " 'PL',\n",
       " 'QA',\n",
       " 'SA',\n",
       " 'SD',\n",
       " 'SY',\n",
       " 'TN',\n",
       " 'YE'}"
      ]
     },
     "execution_count": 22,
     "metadata": {},
     "output_type": "execute_result"
    }
   ],
   "source": [
    "dialects = set(df.dialect.values)\n",
    "dialects"
   ]
  },
  {
   "cell_type": "code",
   "execution_count": 23,
   "id": "26a686b7",
   "metadata": {},
   "outputs": [],
   "source": [
    "NO_OF_CLASSES = len(dialects)"
   ]
  },
  {
   "cell_type": "code",
   "execution_count": 29,
   "id": "e2c0b19a",
   "metadata": {
    "id": "6c28993a",
    "outputId": "dfb5b8ee-505e-4c0d-b4ae-6408c079772a"
   },
   "outputs": [
    {
     "data": {
      "text/plain": [
       "dialect\n",
       "AE    13.960450\n",
       "BH    12.302297\n",
       "DZ    12.728110\n",
       "EG    14.921334\n",
       "IQ    11.928567\n",
       "JO    12.224526\n",
       "KW    14.441711\n",
       "LB    13.603976\n",
       "LY    12.676293\n",
       "MA    12.601092\n",
       "OM    11.572557\n",
       "PL    11.938274\n",
       "QA    15.409958\n",
       "SA    13.695438\n",
       "SD    13.853817\n",
       "SY    11.925933\n",
       "TN    14.261627\n",
       "YE    11.753400\n",
       "Name: clean_word_count, dtype: float64"
      ]
     },
     "execution_count": 29,
     "metadata": {},
     "output_type": "execute_result"
    }
   ],
   "source": [
    "df.groupby('dialect')['clean_word_count'].mean()"
   ]
  },
  {
   "cell_type": "code",
   "execution_count": 30,
   "id": "93460143",
   "metadata": {
    "id": "ed8e4c80",
    "outputId": "3ffdb838-1e1d-4cd1-eff8-1ffe400b83b0"
   },
   "outputs": [
    {
     "data": {
      "image/png": "[encoded data removed]",
      "text/plain": [
       "<Figure size 640x480 with 1 Axes>"
      ]
     },
     "metadata": {},
     "output_type": "display_data"
    }
   ],
   "source": [
    "sns.barplot(x=\"dialect\", y='clean_word_count', data=df)\n",
    "plt.show()"
   ]
  },
  {
   "cell_type": "markdown",
   "id": "b5a96fd4",
   "metadata": {
    "id": "NctkjejFQwDm"
   },
   "source": [
    "### Number of Characters in a tweet"
   ]
  },
  {
   "cell_type": "code",
   "execution_count": 31,
   "id": "aa82e61b",
   "metadata": {
    "colab": {
     "base_uri": "https://localhost:8080/",
     "height": 424
    },
    "id": "L297uoUxQuoQ",
    "outputId": "2af2c8b0-5e57-4879-f458-291854aa39e3"
   },
   "outputs": [
    {
     "data": {
      "text/html": [
       "<div>\n",
       "<style scoped>\n",
       "    .dataframe tbody tr th:only-of-type {\n",
       "        vertical-align: middle;\n",
       "    }\n",
       "\n",
       "    .dataframe tbody tr th {\n",
       "        vertical-align: top;\n",
       "    }\n",
       "\n",
       "    .dataframe thead th {\n",
       "        text-align: right;\n",
       "    }\n",
       "</style>\n",
       "<table border=\"1\" class=\"dataframe\">\n",
       "  <thead>\n",
       "    <tr style=\"text-align: right;\">\n",
       "      <th></th>\n",
       "      <th>id</th>\n",
       "      <th>dialect</th>\n",
       "      <th>text</th>\n",
       "      <th>word_count</th>\n",
       "      <th>char_count</th>\n",
       "      <th>clean_text</th>\n",
       "      <th>clean_word_count</th>\n",
       "      <th>clean_char_count</th>\n",
       "    </tr>\n",
       "  </thead>\n",
       "  <tbody>\n",
       "    <tr>\n",
       "      <th>0</th>\n",
       "      <td>1175358310087892992</td>\n",
       "      <td>IQ</td>\n",
       "      <td>@Nw8ieJUwaCAAreT لكن بالنهاية .. ينتفض .. يغير .</td>\n",
       "      <td>8</td>\n",
       "      <td>48</td>\n",
       "      <td>لكن بالنهاية ينتفض يغير</td>\n",
       "      <td>4</td>\n",
       "      <td>23</td>\n",
       "    </tr>\n",
       "    <tr>\n",
       "      <th>1</th>\n",
       "      <td>1175416117793349632</td>\n",
       "      <td>IQ</td>\n",
       "      <td>@7zNqXP0yrODdRjK يعني هذا محسوب على البشر .. ح...</td>\n",
       "      <td>19</td>\n",
       "      <td>120</td>\n",
       "      <td>يعني هذا محسوب على البشر حيونه ووحشيه وتطلبون ...</td>\n",
       "      <td>15</td>\n",
       "      <td>94</td>\n",
       "    </tr>\n",
       "    <tr>\n",
       "      <th>2</th>\n",
       "      <td>1175450108898565888</td>\n",
       "      <td>IQ</td>\n",
       "      <td>@KanaanRema مبين من كلامه خليجي</td>\n",
       "      <td>5</td>\n",
       "      <td>31</td>\n",
       "      <td>مبين من كلامه خليجي</td>\n",
       "      <td>4</td>\n",
       "      <td>19</td>\n",
       "    </tr>\n",
       "    <tr>\n",
       "      <th>3</th>\n",
       "      <td>1175471073770573824</td>\n",
       "      <td>IQ</td>\n",
       "      <td>@HAIDER76128900 يسلملي مرورك وروحك الحلوه💐</td>\n",
       "      <td>5</td>\n",
       "      <td>42</td>\n",
       "      <td>يسلملي مرورك وروحك الحلوه</td>\n",
       "      <td>4</td>\n",
       "      <td>25</td>\n",
       "    </tr>\n",
       "    <tr>\n",
       "      <th>4</th>\n",
       "      <td>1175496913145217024</td>\n",
       "      <td>IQ</td>\n",
       "      <td>@hmo2406 وين هل الغيبه  اخ محمد 🌸🌺</td>\n",
       "      <td>7</td>\n",
       "      <td>34</td>\n",
       "      <td>وين هل الغيبه اخ محمد</td>\n",
       "      <td>5</td>\n",
       "      <td>22</td>\n",
       "    </tr>\n",
       "    <tr>\n",
       "      <th>...</th>\n",
       "      <td>...</td>\n",
       "      <td>...</td>\n",
       "      <td>...</td>\n",
       "      <td>...</td>\n",
       "      <td>...</td>\n",
       "      <td>...</td>\n",
       "      <td>...</td>\n",
       "      <td>...</td>\n",
       "    </tr>\n",
       "    <tr>\n",
       "      <th>458192</th>\n",
       "      <td>1019484980282580992</td>\n",
       "      <td>BH</td>\n",
       "      <td>@Al_mhbaa_7 مبسوطين منك اللي باسطانا😅</td>\n",
       "      <td>5</td>\n",
       "      <td>37</td>\n",
       "      <td>مبسوطين منك اللي باسطانا</td>\n",
       "      <td>4</td>\n",
       "      <td>24</td>\n",
       "    </tr>\n",
       "    <tr>\n",
       "      <th>458193</th>\n",
       "      <td>1021083283709407232</td>\n",
       "      <td>BH</td>\n",
       "      <td>@Zzainabali @P_ameerah والله ماينده ابش يختي</td>\n",
       "      <td>6</td>\n",
       "      <td>44</td>\n",
       "      <td>والله ماينده ابش يختي</td>\n",
       "      <td>4</td>\n",
       "      <td>21</td>\n",
       "    </tr>\n",
       "    <tr>\n",
       "      <th>458194</th>\n",
       "      <td>1017477537889431552</td>\n",
       "      <td>BH</td>\n",
       "      <td>@Al_mhbaa_7 شو عملنا لك حنا تهربي مننا احنا مس...</td>\n",
       "      <td>14</td>\n",
       "      <td>73</td>\n",
       "      <td>شو عملنا لك حنا تهربي مننا احنا مساكين ليش بتع...</td>\n",
       "      <td>12</td>\n",
       "      <td>59</td>\n",
       "    </tr>\n",
       "    <tr>\n",
       "      <th>458195</th>\n",
       "      <td>1022430374696239232</td>\n",
       "      <td>BH</td>\n",
       "      <td>@haneenalmwla الله يبارك فيها وبالعافيه 😋😋😋</td>\n",
       "      <td>6</td>\n",
       "      <td>43</td>\n",
       "      <td>الله يبارك فيها وبالعافيه</td>\n",
       "      <td>4</td>\n",
       "      <td>26</td>\n",
       "    </tr>\n",
       "    <tr>\n",
       "      <th>458196</th>\n",
       "      <td>1022409931029458944</td>\n",
       "      <td>BH</td>\n",
       "      <td>@jolnar121 السحله ضيفي ي بتطلع لك سحليه😅😅</td>\n",
       "      <td>7</td>\n",
       "      <td>41</td>\n",
       "      <td>السحله ضيفي ي بتطلع لك سحليه</td>\n",
       "      <td>6</td>\n",
       "      <td>28</td>\n",
       "    </tr>\n",
       "  </tbody>\n",
       "</table>\n",
       "<p>458197 rows × 8 columns</p>\n",
       "</div>"
      ],
      "text/plain": [
       "                         id dialect  \\\n",
       "0       1175358310087892992      IQ   \n",
       "1       1175416117793349632      IQ   \n",
       "2       1175450108898565888      IQ   \n",
       "3       1175471073770573824      IQ   \n",
       "4       1175496913145217024      IQ   \n",
       "...                     ...     ...   \n",
       "458192  1019484980282580992      BH   \n",
       "458193  1021083283709407232      BH   \n",
       "458194  1017477537889431552      BH   \n",
       "458195  1022430374696239232      BH   \n",
       "458196  1022409931029458944      BH   \n",
       "\n",
       "                                                     text  word_count  \\\n",
       "0        @Nw8ieJUwaCAAreT لكن بالنهاية .. ينتفض .. يغير .           8   \n",
       "1       @7zNqXP0yrODdRjK يعني هذا محسوب على البشر .. ح...          19   \n",
       "2                         @KanaanRema مبين من كلامه خليجي           5   \n",
       "3              @HAIDER76128900 يسلملي مرورك وروحك الحلوه💐           5   \n",
       "4                      @hmo2406 وين هل الغيبه  اخ محمد 🌸🌺           7   \n",
       "...                                                   ...         ...   \n",
       "458192              @Al_mhbaa_7 مبسوطين منك اللي باسطانا😅           5   \n",
       "458193       @Zzainabali @P_ameerah والله ماينده ابش يختي           6   \n",
       "458194  @Al_mhbaa_7 شو عملنا لك حنا تهربي مننا احنا مس...          14   \n",
       "458195        @haneenalmwla الله يبارك فيها وبالعافيه 😋😋😋           6   \n",
       "458196          @jolnar121 السحله ضيفي ي بتطلع لك سحليه😅😅           7   \n",
       "\n",
       "        char_count                                         clean_text  \\\n",
       "0               48                            لكن بالنهاية ينتفض يغير   \n",
       "1              120  يعني هذا محسوب على البشر حيونه ووحشيه وتطلبون ...   \n",
       "2               31                                مبين من كلامه خليجي   \n",
       "3               42                          يسلملي مرورك وروحك الحلوه   \n",
       "4               34                             وين هل الغيبه اخ محمد    \n",
       "...            ...                                                ...   \n",
       "458192          37                           مبسوطين منك اللي باسطانا   \n",
       "458193          44                              والله ماينده ابش يختي   \n",
       "458194          73  شو عملنا لك حنا تهربي مننا احنا مساكين ليش بتع...   \n",
       "458195          43                         الله يبارك فيها وبالعافيه    \n",
       "458196          41                       السحله ضيفي ي بتطلع لك سحليه   \n",
       "\n",
       "        clean_word_count  clean_char_count  \n",
       "0                      4                23  \n",
       "1                     15                94  \n",
       "2                      4                19  \n",
       "3                      4                25  \n",
       "4                      5                22  \n",
       "...                  ...               ...  \n",
       "458192                 4                24  \n",
       "458193                 4                21  \n",
       "458194                12                59  \n",
       "458195                 4                26  \n",
       "458196                 6                28  \n",
       "\n",
       "[458197 rows x 8 columns]"
      ]
     },
     "execution_count": 31,
     "metadata": {},
     "output_type": "execute_result"
    }
   ],
   "source": [
    "df['clean_char_count'] = df['clean_text'].apply(lambda x: len(str(x)))\n",
    "df"
   ]
  },
  {
   "cell_type": "code",
   "execution_count": 32,
   "id": "45150e89",
   "metadata": {
    "colab": {
     "base_uri": "https://localhost:8080/"
    },
    "id": "ozMcReLjRSfB",
    "outputId": "80c8964b-2912-4fd4-b558-9501c68cb83f"
   },
   "outputs": [
    {
     "data": {
      "text/plain": [
       "285"
      ]
     },
     "execution_count": 32,
     "metadata": {},
     "output_type": "execute_result"
    }
   ],
   "source": [
    "MAX_SEQUENCE_LENGTH = df.clean_char_count.max()\n",
    "MAX_SEQUENCE_LENGTH"
   ]
  },
  {
   "cell_type": "markdown",
   "id": "2588c242",
   "metadata": {},
   "source": [
    "### Save Dataframe to CSV"
   ]
  },
  {
   "cell_type": "code",
   "execution_count": 33,
   "id": "21eb5908",
   "metadata": {},
   "outputs": [],
   "source": [
    "df.to_csv(os.path.join(path, 'dialect_dataset_pre-processed.csv'), index=False)"
   ]
  },
  {
   "cell_type": "code",
   "execution_count": null,
   "id": "7525a34b",
   "metadata": {},
   "outputs": [],
   "source": []
  }
 ],
 "metadata": {
  "accelerator": "GPU",
  "colab": {
   "name": "NLP dialect detection.ipynb",
   "provenance": []
  },
  "kernelspec": {
   "display_name": "Python 3",
   "language": "python",
   "name": "python3"
  },
  "language_info": {
   "codemirror_mode": {
    "name": "ipython",
    "version": 3
   },
   "file_extension": ".py",
   "mimetype": "text/x-python",
   "name": "python",
   "nbconvert_exporter": "python",
   "pygments_lexer": "ipython3",
   "version": "3.8.5"
  }
 },
 "nbformat": 4,
 "nbformat_minor": 5
}
